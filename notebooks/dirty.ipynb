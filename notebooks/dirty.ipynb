{
 "cells": [
  {
   "cell_type": "code",
   "execution_count": 1,
   "metadata": {},
   "outputs": [],
   "source": [
    "import sys\n",
    "import os\n",
    "\n",
    "# Add the project directory to the path\n",
    "notebook_dir = os.path.dirname(os.path.abspath(\"__file__\"))\n",
    "project_dir = os.path.abspath(os.path.join(notebook_dir, \"..\"))\n",
    "sys.path.append(project_dir)\n",
    "\n",
    "#from src.ollama_utils import ollama_quick_chat\n",
    "from src.agents import OpenAIVanillaAgent\n",
    "\n",
    "import json\n",
    "import time\n",
    "import re\n",
    "\n",
    "from dotenv import load_dotenv\n",
    "load_dotenv()\n",
    "\n",
    "from markdownify import markdownify\n",
    "import pdfkit\n",
    "\n",
    "from bs4 import BeautifulSoup\n",
    "\n",
    "path_to_wkhtmltopdf = r\"C:\\Program Files\\wkhtmltopdf\\bin\\wkhtmltopdf.exe\"  # Ajusta esta ruta si es necesario\n",
    "config = pdfkit.configuration(wkhtmltopdf=path_to_wkhtmltopdf)"
   ]
  },
  {
   "cell_type": "code",
   "execution_count": 2,
   "metadata": {},
   "outputs": [],
   "source": [
    "# Load lecture transcripts\n",
    "\n",
    "lecture_transcripts = {}\n",
    "\n",
    "for txt_file in [\"TL1 - Full\", \"TL2 - Full\", \"TL3 - Full\", \"TL4 - Full\"]:\n",
    "    with open(f\"../data/{txt_file}.txt\", \"r\") as file:\n",
    "        lecture_transcripts[txt_file] = file.read()"
   ]
  },
  {
   "cell_type": "code",
   "execution_count": 3,
   "metadata": {},
   "outputs": [],
   "source": [
    "# Extract lecture titles (Defined in the first line of the transcript \".txt\" files)\n",
    "\n",
    "lecture_titles = {}\n",
    "\n",
    "for txt_file, transcript in lecture_transcripts.items():\n",
    "    lecture_titles[txt_file] = re.match(\"(.*?)(\\n|$)\", transcript).group(1)"
   ]
  },
  {
   "cell_type": "code",
   "execution_count": 15,
   "metadata": {},
   "outputs": [
    {
     "name": "stdout",
     "output_type": "stream",
     "text": [
      "Consider the provided text transcript of the video-reccording of one of the lectures of the course 'Linguistics & AI' from my master's program in AI. Elaborate a detailed summary of the lecture's content. The final text's should have a textbook-like style, suitable to be used as study material. Also, provide it as a single unified text, avoiding the use of multiple headers or segmenting it. Do not include any sort of title or subtitle either, provide just the text summary. TRANSCRIPT: This is the transcript content.\n"
     ]
    }
   ],
   "source": [
    "# Load prompts\n",
    "\n",
    "with open(\"../data/prompts_short.json\", \"r\") as f:\n",
    "    prompts = json.load(f)\n",
    "\n",
    "task = prompts[\"tasks\"][0]\n",
    "\n",
    "user_prompt = task[\"user_prompt\"].format(transcript=\"This is the transcript content.\")\n",
    "print(user_prompt)"
   ]
  },
  {
   "cell_type": "code",
   "execution_count": 5,
   "metadata": {},
   "outputs": [
    {
     "name": "stdout",
     "output_type": "stream",
     "text": [
      "Working on:  TL3 - Full ...\n",
      "        ...conducting task:  0\n",
      "        ...conducting task:  1\n",
      "        ...conducting task:  2\n",
      "        ...conducting task:  3\n"
     ]
    }
   ],
   "source": [
    "# Conduct the tasks (OAI)\n",
    "\n",
    "output = {}\n",
    "\n",
    "for txt_file, transcript in lecture_transcripts.items():\n",
    "\n",
    "    if txt_file != \"TL3 - Full\":\n",
    "\n",
    "        continue\n",
    "\n",
    "    print(\"Working on: \", txt_file, \"...\")\n",
    "\n",
    "    tmp = {}\n",
    "    \n",
    "    for task in range(len(prompts[\"tasks\"])):\n",
    "\n",
    "        print(\"        ...conducting task: \", task)\n",
    "\n",
    "        if task not in [3, 4]:\n",
    "\n",
    "            system_prompt = prompts[\"tasks\"][task][\"system_prompt\"]\n",
    "            user_prompt = prompts[\"tasks\"][task][\"user_prompt\"].format(transcript=transcript)\n",
    "\n",
    "            tmp[task] = OpenAIVanillaAgent(system_prompt, user_prompt).completion()\n",
    "\n",
    "        elif task == 3:\n",
    "\n",
    "            tmp_html = {}\n",
    "\n",
    "            for prev_task in [0,1,2]:\n",
    "\n",
    "                system_prompt = prompts[\"tasks\"][task][\"system_prompt\"]\n",
    "                user_prompt = prompts[\"tasks\"][task][\"user_prompt\"].format(text=tmp[prev_task], title=f\"{lecture_titles[txt_file]} - {prompts['tasks'][prev_task]['name']}\")\n",
    "\n",
    "                tmp_html[f\"{prev_task}\"] = OpenAIVanillaAgent(system_prompt, user_prompt).completion()[9:-3]\n",
    "\n",
    "            tmp[task] = tmp_html\n",
    "\n",
    "    output[txt_file] = tmp\n",
    "    #break"
   ]
  },
  {
   "cell_type": "code",
   "execution_count": 6,
   "metadata": {},
   "outputs": [],
   "source": [
    "## Conduct the tasks (Ollama)\n",
    "#\n",
    "#output = {}\n",
    "#\n",
    "#for transcript_name, transcript in lecture_transcripts.items():\n",
    "#\n",
    "#    print(\"Working on: \", transcript_name, \"...\")\n",
    "#\n",
    "#    tmp = {}\n",
    "#    \n",
    "#    for task in range(len(prompts[\"tasks\"])):\n",
    "#\n",
    "#        print(\"        ...conducting task: \", task)\n",
    "#\n",
    "#        if task in [0, 1, 2, 4]:\n",
    "#\n",
    "#            system_prompt = prompts[\"tasks\"][task][\"system_prompt\"]\n",
    "#            user_prompt = prompts[\"tasks\"][task][\"user_prompt\"].format(transcript=transcript)\n",
    "#\n",
    "#            tmp[task] = ollama_quick_chat(system_message=system_prompt, user_input=user_prompt, llm=\"llama3.3:70b\")[\"message\"][\"content\"]\n",
    "#\n",
    "#        elif task == 3:\n",
    "#\n",
    "#            system_prompt = prompts[\"tasks\"][task][\"system_prompt\"]\n",
    "#            user_prompt = prompts[\"tasks\"][task][\"user_prompt\"].format(transcript=transcript, concepts=tmp[2])\n",
    "#\n",
    "#            tmp[task] = ollama_quick_chat(system_message=system_prompt, user_input=user_prompt, llm=\"llama3.3:70b\")[\"message\"][\"content\"]\n",
    "#\n",
    "#        elif task == 5:\n",
    "#\n",
    "#            system_prompt = prompts[\"tasks\"][task][\"system_prompt\"]\n",
    "#            user_prompt = prompts[\"tasks\"][task][\"user_prompt\"].format(transcript=transcript, questions=tmp[4])\n",
    "#\n",
    "#            tmp[task] = ollama_quick_chat(system_message=system_prompt, user_input=user_prompt, llm=\"llama3.3:70b\")[\"message\"][\"content\"]\n",
    "#\n",
    "#        elif task == 6:\n",
    "#\n",
    "#            system_prompt = prompts[\"tasks\"][task][\"system_prompt\"]\n",
    "#            user_prompt = prompts[\"tasks\"][task][\"user_prompt\"].format(transcript=transcript, questions=tmp[4], answers=tmp[5])\n",
    "#\n",
    "#            tmp[task] = ollama_quick_chat(system_message=system_prompt, user_input=user_prompt, llm=\"llama3.3:70b\")[\"message\"][\"content\"]\n",
    "#\n",
    "#        time.sleep(30)\n",
    "#    time.sleep(120)\n",
    "#\n",
    "#    output[transcript_name] = tmp"
   ]
  },
  {
   "cell_type": "code",
   "execution_count": 7,
   "metadata": {},
   "outputs": [],
   "source": [
    "with open(\"../data/output_OAI.json\", \"w\") as file:\n",
    "    json.dump(output, file, indent=4)"
   ]
  },
  {
   "cell_type": "code",
   "execution_count": 8,
   "metadata": {},
   "outputs": [],
   "source": [
    "#output['TL2 - Full']"
   ]
  },
  {
   "cell_type": "code",
   "execution_count": null,
   "metadata": {},
   "outputs": [],
   "source": [
    "# Inicializar variables para el HTML combinado\n",
    "combined_body = \"\"\n",
    "\n",
    "with open(\"../data/print_friendly_style.txt\", \"r\", encoding=\"utf-8\") as style_file:\n",
    "    print_friendly_style = style_file.read()\n",
    "\n",
    "# Iterar sobre las entradas en lecture[2]\n",
    "for lecture, _ in output.items():\n",
    "    combined_body = \"\"  # Reiniciar el cuerpo combinado para cada conferencia\n",
    "    for _, html_output in output[lecture][3].items():\n",
    "        # Analizar la cadena HTML actual con BeautifulSoup\n",
    "        soup = BeautifulSoup(html_output, 'html.parser')\n",
    "        \n",
    "        # Combinar el contenido del body\n",
    "        if soup.body:\n",
    "            combined_body += soup.body.decode_contents()\n",
    "\n",
    "    # Crear el documento HTML combinado\n",
    "    combined_html = f\"\"\"<!DOCTYPE html>\n",
    "    <html lang=\"en\">\n",
    "    <head>\n",
    "        <meta charset=\"UTF-8\">\n",
    "        <meta name=\"viewport\" content=\"width=device-width, initial-scale=1.0\">\n",
    "        <title>Combined Document</title>\n",
    "        <style>\n",
    "            {print_friendly_style}\n",
    "        </style>\n",
    "    </head>\n",
    "    <body>\n",
    "        {combined_body}\n",
    "    </body>\n",
    "    </html>\"\"\"\n",
    "\n",
    "    system_prompt = prompts[\"tasks\"][4][\"system_prompt\"]\n",
    "    user_prompt = prompts[\"tasks\"][4][\"user_prompt\"].format(combined_html=combined_html)\n",
    "\n",
    "    homogen_html = OpenAIVanillaAgent(system_prompt, user_prompt).completion()\n",
    "\n",
    "    pdfkit.from_string(homogen_html, f\"../data/{lecture}_material.pdf\", configuration=config)"
   ]
  }
 ],
 "metadata": {
  "kernelspec": {
   "display_name": "base",
   "language": "python",
   "name": "python3"
  },
  "language_info": {
   "codemirror_mode": {
    "name": "ipython",
    "version": 3
   },
   "file_extension": ".py",
   "mimetype": "text/x-python",
   "name": "python",
   "nbconvert_exporter": "python",
   "pygments_lexer": "ipython3",
   "version": "3.12.4"
  }
 },
 "nbformat": 4,
 "nbformat_minor": 2
}
