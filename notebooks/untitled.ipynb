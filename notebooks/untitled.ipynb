{
 "cells": [
  {
   "cell_type": "code",
   "execution_count": null,
   "metadata": {},
   "outputs": [],
   "source": [
    "import sys\n",
    "import os\n",
    "\n",
    "# Add the project directory to the path\n",
    "notebook_dir = os.path.dirname(os.path.abspath(\"__file__\"))\n",
    "project_dir = os.path.abspath(os.path.join(notebook_dir, \"..\"))\n",
    "sys.path.append(project_dir)\n",
    "\n",
    "from src.serial_transcript import WhisperTranscriber"
   ]
  },
  {
   "cell_type": "code",
   "execution_count": null,
   "metadata": {},
   "outputs": [],
   "source": [
    "WT = WhisperTranscriber(\"../Downloads/Reccordings_combo\")\n",
    "\n",
    "WT.check_target_dir()\n",
    "WT.scan_for_reccordings()\n",
    "WT.transcribe_audio()"
   ]
  }
 ],
 "metadata": {
  "kernelspec": {
   "display_name": "FAI_pyenv",
   "language": "python",
   "name": "python3"
  },
  "language_info": {
   "name": "python",
   "version": "3.11.10"
  }
 },
 "nbformat": 4,
 "nbformat_minor": 2
}
