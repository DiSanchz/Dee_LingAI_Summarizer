{
 "cells": [
  {
   "cell_type": "code",
   "execution_count": null,
   "metadata": {},
   "outputs": [],
   "source": [
    "import sys\n",
    "import os\n",
    "\n",
    "# Add the project directory to the path\n",
    "notebook_dir = os.path.dirname(os.path.abspath(\"__file__\"))\n",
    "project_dir = os.path.abspath(os.path.join(notebook_dir, \"..\"))\n",
    "sys.path.append(project_dir)\n",
    "\n",
    "from src. ollama_utils import ollama_quick_chat\n",
    "\n",
    "import json"
   ]
  },
  {
   "cell_type": "code",
   "execution_count": null,
   "metadata": {},
   "outputs": [],
   "source": [
    "lecture_transcripts = {}\n",
    "\n",
    "for txt_file in [\"TL1 - Full\", \"TL2 - Full\", \"TL3 - Full\", \"TL4 - Full\"]:\n",
    "    with open(f\"../data/{txt_file}.txt\", \"r\") as file:\n",
    "        lecture_transcripts[txt_file] = file.read()"
   ]
  },
  {
   "cell_type": "code",
   "execution_count": null,
   "metadata": {},
   "outputs": [],
   "source": [
    "with open(\"../data/prompts.json\", \"r\") as f:\n",
    "    prompts = json.load(f)\n",
    "\n",
    "task = prompts[\"tasks\"][0]\n",
    "\n",
    "user_prompt = task[\"user_prompt\"].format(transcript=\"This is the transcript content.\")\n",
    "print(user_prompt)"
   ]
  },
  {
   "cell_type": "code",
   "execution_count": null,
   "metadata": {},
   "outputs": [],
   "source": [
    "output = {}\n",
    "\n",
    "for transcript_name, transcript in lecture_transcripts.items():\n",
    "\n",
    "    tmp = {}\n",
    "    \n",
    "    for task in range(len(prompts[\"tasks\"])):\n",
    "\n",
    "        if task in [0, 1, 2, 4]:\n",
    "\n",
    "            system_prompt = prompts[\"tasks\"][task][\"system_prompt\"]\n",
    "            user_prompt = prompts[\"tasks\"][task][\"user_prompt\"].format(transcript=transcript)\n",
    "\n",
    "            output[task] = ollama_quick_chat(user_prompt, system_prompt, \"llama3.3:70b\")\n",
    "\n",
    "        elif task == 3:\n",
    "\n",
    "            system_prompt = prompts[\"tasks\"][task][\"system_prompt\"]\n",
    "            user_prompt = prompts[\"tasks\"][task][\"user_prompt\"].format(transcript=transcript, concepts=output[2])\n",
    "\n",
    "            output[task] = ollama_quick_chat(user_prompt, system_prompt, \"llama3.3:70b\")\n",
    "\n",
    "        elif task == 5:\n",
    "\n",
    "            system_prompt = prompts[\"tasks\"][task][\"system_prompt\"]\n",
    "            user_prompt = prompts[\"tasks\"][task][\"user_prompt\"].format(transcript=transcript, questions=output[4])\n",
    "\n",
    "            output[task] = ollama_quick_chat(user_prompt, system_prompt, \"llama3.3:70b\")\n",
    "\n",
    "        elif task == 6:\n",
    "\n",
    "            system_prompt = prompts[\"tasks\"][task][\"system_prompt\"]\n",
    "            user_prompt = prompts[\"tasks\"][task][\"user_prompt\"].format(transcript=transcript, questions=output[4], answers=output[5])\n",
    "\n",
    "            output[task] = ollama_quick_chat(user_prompt, system_prompt, \"llama3.3:70b\")\n",
    "\n",
    "    output[transcript_name] = output\n",
    "\n",
    "        "
   ]
  }
 ],
 "metadata": {
  "kernelspec": {
   "display_name": "base",
   "language": "python",
   "name": "python3"
  },
  "language_info": {
   "codemirror_mode": {
    "name": "ipython",
    "version": 3
   },
   "file_extension": ".py",
   "mimetype": "text/x-python",
   "name": "python",
   "nbconvert_exporter": "python",
   "pygments_lexer": "ipython3",
   "version": "3.12.4"
  }
 },
 "nbformat": 4,
 "nbformat_minor": 2
}
